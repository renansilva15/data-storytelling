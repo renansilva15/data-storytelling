{
 "cells": [
  {
   "cell_type": "markdown",
   "metadata": {},
   "source": [
    "Navegue pelo portal da transparência do Governo do estado do Piauí e escolha uma base de dados disponível para trabalhar.  \n",
    "De acordo com o material apresentado e dos debates conduzidos em sala, realize as etapas de definição, obtenção e checagem para sua narrativa."
   ]
  },
  {
   "cell_type": "markdown",
   "metadata": {},
   "source": [
    "# 1. Definição"
   ]
  },
  {
   "cell_type": "markdown",
   "metadata": {},
   "source": [
    "Qual a porcentagem de obras que começaram e terminaram nos últimos 10 anos em comparação com os 10 anos anteriores no estado do Piauí?\n",
    "Com o crescimento da população é possível supor que o número de obras concluídas tem aumentado, mas será que esse número é proporcional ao número de obras começadas?\n",
    "Será que antes concluíamos 8 em cada 10 obras e hoje concluímos 16 em cada 20?\n",
    "\n",
    "Para responder essas perguntas é necessário investigar o número de obras que foram concluídas nos últimos 20 anos no Piauí."
   ]
  },
  {
   "cell_type": "markdown",
   "metadata": {},
   "source": [
    "# 2. Obtenção"
   ]
  },
  {
   "cell_type": "markdown",
   "metadata": {},
   "source": [
    "A obtenção foi feita a partir do site do portal da trasparência do estado do Piauí [aqui](https://sistemas.tce.pi.gov.br/obrasweb/mural/index.xhtml;jsessionid=nBg5PP6tjps66r4NFxv369ctU8TpD0VHoqDYCC8y.obras-web-9df59ff7c-st54z), foi feito o download do arquivo de extensão XLSX da seção de obras na data 04/04/2024."
   ]
  },
  {
   "cell_type": "code",
   "execution_count": 1,
   "metadata": {},
   "outputs": [],
   "source": [
    "path = \"./datasets/listagem_obras.xlsx\""
   ]
  },
  {
   "cell_type": "markdown",
   "metadata": {},
   "source": [
    "# 3. Checagem"
   ]
  },
  {
   "cell_type": "markdown",
   "metadata": {},
   "source": [
    "## Imports"
   ]
  },
  {
   "cell_type": "code",
   "execution_count": 2,
   "metadata": {},
   "outputs": [],
   "source": [
    "import pandas as pd"
   ]
  },
  {
   "cell_type": "code",
   "execution_count": 3,
   "metadata": {},
   "outputs": [
    {
     "name": "stderr",
     "output_type": "stream",
     "text": [
      "/home/renan/anaconda3/lib/python3.11/site-packages/openpyxl/styles/stylesheet.py:226: UserWarning: Workbook contains no default style, apply openpyxl's default\n",
      "  warn(\"Workbook contains no default style, apply openpyxl's default\")\n"
     ]
    },
    {
     "data": {
      "text/html": [
       "<div>\n",
       "<style scoped>\n",
       "    .dataframe tbody tr th:only-of-type {\n",
       "        vertical-align: middle;\n",
       "    }\n",
       "\n",
       "    .dataframe tbody tr th {\n",
       "        vertical-align: top;\n",
       "    }\n",
       "\n",
       "    .dataframe thead th {\n",
       "        text-align: right;\n",
       "    }\n",
       "</style>\n",
       "<table border=\"1\" class=\"dataframe\">\n",
       "  <thead>\n",
       "    <tr style=\"text-align: right;\">\n",
       "      <th></th>\n",
       "      <th>Órgão/UG</th>\n",
       "      <th>Executante</th>\n",
       "      <th>Descrição</th>\n",
       "      <th>Dt Início</th>\n",
       "      <th>Valor Previsto</th>\n",
       "      <th>Situação</th>\n",
       "    </tr>\n",
       "  </thead>\n",
       "  <tbody>\n",
       "    <tr>\n",
       "      <th>0</th>\n",
       "      <td>P. M. DE SAO JOSE DO DIVINO</td>\n",
       "      <td>SOUSA E AMARAL LTDA</td>\n",
       "      <td>Contratação de pesso...</td>\n",
       "      <td>02/03/2021</td>\n",
       "      <td>46.748,08</td>\n",
       "      <td>Encerrada</td>\n",
       "    </tr>\n",
       "    <tr>\n",
       "      <th>1</th>\n",
       "      <td>P. M. DE SAO JOSE DO DIVINO</td>\n",
       "      <td>J J DE SOUSA BASILIO CONSTRUÇÃO DE  RODOVIAS LTDA</td>\n",
       "      <td>CONTRATAÇÃO DE PESSO...</td>\n",
       "      <td>02/01/2024</td>\n",
       "      <td>63.021,28</td>\n",
       "      <td>Em andamento</td>\n",
       "    </tr>\n",
       "    <tr>\n",
       "      <th>2</th>\n",
       "      <td>P. M. DE SAO JOSE DO DIVINO</td>\n",
       "      <td>RAMILOS CONSTRUÇÕES EIRELI</td>\n",
       "      <td>CONTRATAÇÃO DE PESSO...</td>\n",
       "      <td>07/02/2024</td>\n",
       "      <td>702.365,89</td>\n",
       "      <td>Em andamento</td>\n",
       "    </tr>\n",
       "    <tr>\n",
       "      <th>3</th>\n",
       "      <td>IDEPI - INSTITUTO DE DESENVOLVIMENTO DO PIAUI</td>\n",
       "      <td>CONSTRUTORA CONSTRUNOVA LTDA.</td>\n",
       "      <td>Serviços de melhoria...</td>\n",
       "      <td>01/04/2024</td>\n",
       "      <td>1.000.000,00</td>\n",
       "      <td>Em andamento</td>\n",
       "    </tr>\n",
       "    <tr>\n",
       "      <th>4</th>\n",
       "      <td>IDEPI - INSTITUTO DE DESENVOLVIMENTO DO PIAUI</td>\n",
       "      <td>CONSTRUIR EMPREENDIMENTOS LTDA.</td>\n",
       "      <td>Pavimentação em para...</td>\n",
       "      <td>01/04/2024</td>\n",
       "      <td>935.697,57</td>\n",
       "      <td>Em andamento</td>\n",
       "    </tr>\n",
       "    <tr>\n",
       "      <th>...</th>\n",
       "      <td>...</td>\n",
       "      <td>...</td>\n",
       "      <td>...</td>\n",
       "      <td>...</td>\n",
       "      <td>...</td>\n",
       "      <td>...</td>\n",
       "    </tr>\n",
       "    <tr>\n",
       "      <th>8988</th>\n",
       "      <td>SEFAZ - SECRETARIA DA FAZENDA DO ESTADO</td>\n",
       "      <td>CONSTRUTORA J.COELHO LTDA.</td>\n",
       "      <td>Reforma do Posto Fis...</td>\n",
       "      <td>05/11/2007</td>\n",
       "      <td>114.899,97</td>\n",
       "      <td>Concluída</td>\n",
       "    </tr>\n",
       "    <tr>\n",
       "      <th>8989</th>\n",
       "      <td>SEFAZ - SECRETARIA DA FAZENDA DO ESTADO</td>\n",
       "      <td>ARCOS ENGENHARIA LTDA.</td>\n",
       "      <td>Recuperação/Reparo d...</td>\n",
       "      <td>01/10/2007</td>\n",
       "      <td>16.200,00</td>\n",
       "      <td>Concluída</td>\n",
       "    </tr>\n",
       "    <tr>\n",
       "      <th>8990</th>\n",
       "      <td>HEMOPI - CENTRO DE HEMATOLOGIA E HEMOTERAPIA D...</td>\n",
       "      <td>CRISTAL ENGENHARIA LTDA</td>\n",
       "      <td>Serviços de ampliaçã...</td>\n",
       "      <td>06/12/2006</td>\n",
       "      <td>158.798,87</td>\n",
       "      <td>Encerrada</td>\n",
       "    </tr>\n",
       "    <tr>\n",
       "      <th>8991</th>\n",
       "      <td>HEMOPI - CENTRO DE HEMATOLOGIA E HEMOTERAPIA D...</td>\n",
       "      <td>CRISTAL ENGENHARIA LTDA</td>\n",
       "      <td>Reforma do Hemonúcle...</td>\n",
       "      <td>06/12/2006</td>\n",
       "      <td>116.401,73</td>\n",
       "      <td>Encerrada</td>\n",
       "    </tr>\n",
       "    <tr>\n",
       "      <th>8992</th>\n",
       "      <td>HEMOPI - CENTRO DE HEMATOLOGIA E HEMOTERAPIA D...</td>\n",
       "      <td>ALTOS ENGENHARIA LTDA</td>\n",
       "      <td>Serviço de reforma d...</td>\n",
       "      <td>10/10/2005</td>\n",
       "      <td>20.152,51</td>\n",
       "      <td>Encerrada</td>\n",
       "    </tr>\n",
       "  </tbody>\n",
       "</table>\n",
       "<p>8993 rows × 6 columns</p>\n",
       "</div>"
      ],
      "text/plain": [
       "                                               Órgão/UG  \\\n",
       "0                           P. M. DE SAO JOSE DO DIVINO   \n",
       "1                           P. M. DE SAO JOSE DO DIVINO   \n",
       "2                           P. M. DE SAO JOSE DO DIVINO   \n",
       "3         IDEPI - INSTITUTO DE DESENVOLVIMENTO DO PIAUI   \n",
       "4         IDEPI - INSTITUTO DE DESENVOLVIMENTO DO PIAUI   \n",
       "...                                                 ...   \n",
       "8988            SEFAZ - SECRETARIA DA FAZENDA DO ESTADO   \n",
       "8989            SEFAZ - SECRETARIA DA FAZENDA DO ESTADO   \n",
       "8990  HEMOPI - CENTRO DE HEMATOLOGIA E HEMOTERAPIA D...   \n",
       "8991  HEMOPI - CENTRO DE HEMATOLOGIA E HEMOTERAPIA D...   \n",
       "8992  HEMOPI - CENTRO DE HEMATOLOGIA E HEMOTERAPIA D...   \n",
       "\n",
       "                                             Executante  \\\n",
       "0                                   SOUSA E AMARAL LTDA   \n",
       "1     J J DE SOUSA BASILIO CONSTRUÇÃO DE  RODOVIAS LTDA   \n",
       "2                            RAMILOS CONSTRUÇÕES EIRELI   \n",
       "3                         CONSTRUTORA CONSTRUNOVA LTDA.   \n",
       "4                       CONSTRUIR EMPREENDIMENTOS LTDA.   \n",
       "...                                                 ...   \n",
       "8988                         CONSTRUTORA J.COELHO LTDA.   \n",
       "8989                             ARCOS ENGENHARIA LTDA.   \n",
       "8990                            CRISTAL ENGENHARIA LTDA   \n",
       "8991                            CRISTAL ENGENHARIA LTDA   \n",
       "8992                              ALTOS ENGENHARIA LTDA   \n",
       "\n",
       "                    Descrição   Dt Início Valor Previsto      Situação  \n",
       "0     Contratação de pesso...  02/03/2021      46.748,08     Encerrada  \n",
       "1     CONTRATAÇÃO DE PESSO...  02/01/2024      63.021,28  Em andamento  \n",
       "2     CONTRATAÇÃO DE PESSO...  07/02/2024     702.365,89  Em andamento  \n",
       "3     Serviços de melhoria...  01/04/2024   1.000.000,00  Em andamento  \n",
       "4     Pavimentação em para...  01/04/2024     935.697,57  Em andamento  \n",
       "...                       ...         ...            ...           ...  \n",
       "8988  Reforma do Posto Fis...  05/11/2007     114.899,97     Concluída  \n",
       "8989  Recuperação/Reparo d...  01/10/2007      16.200,00     Concluída  \n",
       "8990  Serviços de ampliaçã...  06/12/2006     158.798,87     Encerrada  \n",
       "8991  Reforma do Hemonúcle...  06/12/2006     116.401,73     Encerrada  \n",
       "8992  Serviço de reforma d...  10/10/2005      20.152,51     Encerrada  \n",
       "\n",
       "[8993 rows x 6 columns]"
      ]
     },
     "execution_count": 3,
     "metadata": {},
     "output_type": "execute_result"
    }
   ],
   "source": [
    "# Header starts in line 1.\n",
    "dataset = pd.read_excel(path, header=1)\n",
    "dataset"
   ]
  },
  {
   "cell_type": "code",
   "execution_count": 4,
   "metadata": {},
   "outputs": [
    {
     "name": "stdout",
     "output_type": "stream",
     "text": [
      "<class 'pandas.core.frame.DataFrame'>\n",
      "RangeIndex: 8993 entries, 0 to 8992\n",
      "Data columns (total 6 columns):\n",
      " #   Column          Non-Null Count  Dtype \n",
      "---  ------          --------------  ----- \n",
      " 0   Órgão/UG        8993 non-null   object\n",
      " 1   Executante      8802 non-null   object\n",
      " 2   Descrição       8993 non-null   object\n",
      " 3   Dt Início       8993 non-null   object\n",
      " 4   Valor Previsto  8993 non-null   object\n",
      " 5   Situação        8944 non-null   object\n",
      "dtypes: object(6)\n",
      "memory usage: 421.7+ KB\n"
     ]
    }
   ],
   "source": [
    "dataset.info()"
   ]
  },
  {
   "cell_type": "code",
   "execution_count": 5,
   "metadata": {},
   "outputs": [
    {
     "data": {
      "text/html": [
       "<div>\n",
       "<style scoped>\n",
       "    .dataframe tbody tr th:only-of-type {\n",
       "        vertical-align: middle;\n",
       "    }\n",
       "\n",
       "    .dataframe tbody tr th {\n",
       "        vertical-align: top;\n",
       "    }\n",
       "\n",
       "    .dataframe thead th {\n",
       "        text-align: right;\n",
       "    }\n",
       "</style>\n",
       "<table border=\"1\" class=\"dataframe\">\n",
       "  <thead>\n",
       "    <tr style=\"text-align: right;\">\n",
       "      <th></th>\n",
       "      <th>Órgão/UG</th>\n",
       "      <th>Executante</th>\n",
       "      <th>Descrição</th>\n",
       "      <th>Dt Início</th>\n",
       "      <th>Valor Previsto</th>\n",
       "      <th>Situação</th>\n",
       "    </tr>\n",
       "  </thead>\n",
       "  <tbody>\n",
       "    <tr>\n",
       "      <th>0</th>\n",
       "      <td>P. M. DE SAO JOSE DO DIVINO</td>\n",
       "      <td>SOUSA E AMARAL LTDA</td>\n",
       "      <td>Contratação de pesso...</td>\n",
       "      <td>02/03/2021</td>\n",
       "      <td>46.748,08</td>\n",
       "      <td>Encerrada</td>\n",
       "    </tr>\n",
       "    <tr>\n",
       "      <th>1</th>\n",
       "      <td>P. M. DE SAO JOSE DO DIVINO</td>\n",
       "      <td>J J DE SOUSA BASILIO CONSTRUÇÃO DE  RODOVIAS LTDA</td>\n",
       "      <td>CONTRATAÇÃO DE PESSO...</td>\n",
       "      <td>02/01/2024</td>\n",
       "      <td>63.021,28</td>\n",
       "      <td>Em andamento</td>\n",
       "    </tr>\n",
       "    <tr>\n",
       "      <th>2</th>\n",
       "      <td>P. M. DE SAO JOSE DO DIVINO</td>\n",
       "      <td>RAMILOS CONSTRUÇÕES EIRELI</td>\n",
       "      <td>CONTRATAÇÃO DE PESSO...</td>\n",
       "      <td>07/02/2024</td>\n",
       "      <td>702.365,89</td>\n",
       "      <td>Em andamento</td>\n",
       "    </tr>\n",
       "    <tr>\n",
       "      <th>3</th>\n",
       "      <td>IDEPI - INSTITUTO DE DESENVOLVIMENTO DO PIAUI</td>\n",
       "      <td>CONSTRUTORA CONSTRUNOVA LTDA.</td>\n",
       "      <td>Serviços de melhoria...</td>\n",
       "      <td>01/04/2024</td>\n",
       "      <td>1.000.000,00</td>\n",
       "      <td>Em andamento</td>\n",
       "    </tr>\n",
       "    <tr>\n",
       "      <th>4</th>\n",
       "      <td>IDEPI - INSTITUTO DE DESENVOLVIMENTO DO PIAUI</td>\n",
       "      <td>CONSTRUIR EMPREENDIMENTOS LTDA.</td>\n",
       "      <td>Pavimentação em para...</td>\n",
       "      <td>01/04/2024</td>\n",
       "      <td>935.697,57</td>\n",
       "      <td>Em andamento</td>\n",
       "    </tr>\n",
       "  </tbody>\n",
       "</table>\n",
       "</div>"
      ],
      "text/plain": [
       "                                        Órgão/UG  \\\n",
       "0                    P. M. DE SAO JOSE DO DIVINO   \n",
       "1                    P. M. DE SAO JOSE DO DIVINO   \n",
       "2                    P. M. DE SAO JOSE DO DIVINO   \n",
       "3  IDEPI - INSTITUTO DE DESENVOLVIMENTO DO PIAUI   \n",
       "4  IDEPI - INSTITUTO DE DESENVOLVIMENTO DO PIAUI   \n",
       "\n",
       "                                          Executante                Descrição  \\\n",
       "0                                SOUSA E AMARAL LTDA  Contratação de pesso...   \n",
       "1  J J DE SOUSA BASILIO CONSTRUÇÃO DE  RODOVIAS LTDA  CONTRATAÇÃO DE PESSO...   \n",
       "2                         RAMILOS CONSTRUÇÕES EIRELI  CONTRATAÇÃO DE PESSO...   \n",
       "3                      CONSTRUTORA CONSTRUNOVA LTDA.  Serviços de melhoria...   \n",
       "4                    CONSTRUIR EMPREENDIMENTOS LTDA.  Pavimentação em para...   \n",
       "\n",
       "    Dt Início Valor Previsto      Situação  \n",
       "0  02/03/2021      46.748,08     Encerrada  \n",
       "1  02/01/2024      63.021,28  Em andamento  \n",
       "2  07/02/2024     702.365,89  Em andamento  \n",
       "3  01/04/2024   1.000.000,00  Em andamento  \n",
       "4  01/04/2024     935.697,57  Em andamento  "
      ]
     },
     "execution_count": 5,
     "metadata": {},
     "output_type": "execute_result"
    }
   ],
   "source": [
    "dataset.head()"
   ]
  }
 ],
 "metadata": {
  "kernelspec": {
   "display_name": "base",
   "language": "python",
   "name": "python3"
  },
  "language_info": {
   "codemirror_mode": {
    "name": "ipython",
    "version": 3
   },
   "file_extension": ".py",
   "mimetype": "text/x-python",
   "name": "python",
   "nbconvert_exporter": "python",
   "pygments_lexer": "ipython3",
   "version": "3.11.5"
  }
 },
 "nbformat": 4,
 "nbformat_minor": 2
}
